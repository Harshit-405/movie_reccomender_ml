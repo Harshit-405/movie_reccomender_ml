{
  "nbformat": 4,
  "nbformat_minor": 0,
  "metadata": {
    "colab": {
      "provenance": []
    },
    "kernelspec": {
      "name": "python3",
      "display_name": "Python 3"
    },
    "language_info": {
      "name": "python"
    }
  },
  "cells": [
    {
      "cell_type": "code",
      "metadata": {
        "colab": {
          "base_uri": "https://localhost:8080/"
        },
        "id": "b5a338d7",
        "outputId": "adf7fba6-5f68-4f10-c36b-08fe6a8912e0"
      },
      "source": [
        "import pandas as pd\n",
        "\n",
        "try:\n",
        "    links_df = pd.read_csv('links.csv')\n",
        "    movies_df = pd.read_csv('movies.csv')\n",
        "    ratings_df = pd.read_csv('ratings.csv')\n",
        "    tags_df = pd.read_csv('tags.csv')\n",
        "\n",
        "    print(\"Files loaded successfully:\")\n",
        "    print(\"links.csv:\", links_df.head())\n",
        "    print(\"movies.csv:\", movies_df.head())\n",
        "    print(\"ratings.csv:\", ratings_df.head())\n",
        "    print(\"tags.csv:\", tags_df.head())\n",
        "\n",
        "except FileNotFoundError as e:\n",
        "    print(f\"Error loading file: {e}. Make sure the files are in the correct directory.\")\n",
        "except Exception as e:\n",
        "    print(f\"An error occurred: {e}\")"
      ],
      "execution_count": 2,
      "outputs": [
        {
          "output_type": "stream",
          "name": "stdout",
          "text": [
            "Files loaded successfully:\n",
            "links.csv:    movieId  imdbId   tmdbId\n",
            "0        1  114709    862.0\n",
            "1        2  113497   8844.0\n",
            "2        3  113228  15602.0\n",
            "3        4  114885  31357.0\n",
            "4        5  113041  11862.0\n",
            "movies.csv:    movieId                               title  \\\n",
            "0        1                    Toy Story (1995)   \n",
            "1        2                      Jumanji (1995)   \n",
            "2        3             Grumpier Old Men (1995)   \n",
            "3        4            Waiting to Exhale (1995)   \n",
            "4        5  Father of the Bride Part II (1995)   \n",
            "\n",
            "                                        genres  \n",
            "0  Adventure|Animation|Children|Comedy|Fantasy  \n",
            "1                   Adventure|Children|Fantasy  \n",
            "2                               Comedy|Romance  \n",
            "3                         Comedy|Drama|Romance  \n",
            "4                                       Comedy  \n",
            "ratings.csv:    userId  movieId  rating  timestamp\n",
            "0       1        1     4.0  964982703\n",
            "1       1        3     4.0  964981247\n",
            "2       1        6     4.0  964982224\n",
            "3       1       47     5.0  964983815\n",
            "4       1       50     5.0  964982931\n",
            "tags.csv:    userId  movieId              tag   timestamp\n",
            "0       2    60756            funny  1445714994\n",
            "1       2    60756  Highly quotable  1445714996\n",
            "2       2    60756     will ferrell  1445714992\n",
            "3       2    89774     Boxing story  1445715207\n",
            "4       2    89774              MMA  1445715200\n"
          ]
        }
      ]
    },
    {
      "cell_type": "code",
      "metadata": {
        "colab": {
          "base_uri": "https://localhost:8080/"
        },
        "id": "615190fa",
        "outputId": "4ef160c5-7f83-497b-d3bb-9cd04c297cb9"
      },
      "source": [
        "print(\"Missing values in links_df:\")\n",
        "print(links_df.isnull().sum())\n",
        "\n",
        "print(\"\\nMissing values in movies_df:\")\n",
        "print(movies_df.isnull().sum())\n",
        "\n",
        "print(\"\\nMissing values in ratings_df:\")\n",
        "print(ratings_df.isnull().sum())\n",
        "\n",
        "print(\"\\nMissing values in tags_df:\")\n",
        "print(tags_df.isnull().sum())"
      ],
      "execution_count": 3,
      "outputs": [
        {
          "output_type": "stream",
          "name": "stdout",
          "text": [
            "Missing values in links_df:\n",
            "movieId    0\n",
            "imdbId     0\n",
            "tmdbId     8\n",
            "dtype: int64\n",
            "\n",
            "Missing values in movies_df:\n",
            "movieId    0\n",
            "title      0\n",
            "genres     0\n",
            "dtype: int64\n",
            "\n",
            "Missing values in ratings_df:\n",
            "userId       0\n",
            "movieId      0\n",
            "rating       0\n",
            "timestamp    0\n",
            "dtype: int64\n",
            "\n",
            "Missing values in tags_df:\n",
            "userId       0\n",
            "movieId      0\n",
            "tag          0\n",
            "timestamp    0\n",
            "dtype: int64\n"
          ]
        }
      ]
    },
    {
      "cell_type": "code",
      "metadata": {
        "colab": {
          "base_uri": "https://localhost:8080/"
        },
        "id": "f82e7db5",
        "outputId": "c3e264bc-6520-40e8-e382-1d08d54108f8"
      },
      "source": [
        "print(\"Data types in links_df:\")\n",
        "print(links_df.dtypes)\n",
        "\n",
        "print(\"\\nData types in movies_df:\")\n",
        "print(movies_df.dtypes)\n",
        "\n",
        "print(\"\\nData types in ratings_df:\")\n",
        "print(ratings_df.dtypes)\n",
        "\n",
        "print(\"\\nData types in tags_df:\")\n",
        "print(tags_df.dtypes)"
      ],
      "execution_count": 4,
      "outputs": [
        {
          "output_type": "stream",
          "name": "stdout",
          "text": [
            "Data types in links_df:\n",
            "movieId      int64\n",
            "imdbId       int64\n",
            "tmdbId     float64\n",
            "dtype: object\n",
            "\n",
            "Data types in movies_df:\n",
            "movieId     int64\n",
            "title      object\n",
            "genres     object\n",
            "dtype: object\n",
            "\n",
            "Data types in ratings_df:\n",
            "userId         int64\n",
            "movieId        int64\n",
            "rating       float64\n",
            "timestamp      int64\n",
            "dtype: object\n",
            "\n",
            "Data types in tags_df:\n",
            "userId        int64\n",
            "movieId       int64\n",
            "tag          object\n",
            "timestamp     int64\n",
            "dtype: object\n"
          ]
        }
      ]
    },
    {
      "cell_type": "code",
      "metadata": {
        "id": "1fdca207"
      },
      "source": [
        "from sklearn.metrics.pairwise import cosine_similarity\n",
        "\n",
        "cosine_sim = cosine_similarity(tfidf_matrix, tfidf_matrix)"
      ],
      "execution_count": 9,
      "outputs": []
    },
    {
      "cell_type": "code",
      "metadata": {
        "id": "de230375"
      },
      "source": [
        "indices = pd.Series(movies_df.index, index=movies_df['title']).drop_duplicates()\n",
        "\n",
        "def get_recommendations(title, cosine_sim=cosine_sim):\n",
        "    # Check if the title exists in the index\n",
        "    if title not in indices:\n",
        "        print(f\"Movie title '{title}' not found in the dataset. Please check the title.\")\n",
        "        return None\n",
        "\n",
        "    idx = indices[title]\n",
        "    sim_scores = list(enumerate(cosine_sim[idx]))\n",
        "    sim_scores = sorted(sim_scores, key=lambda x: x[1], reverse=True)\n",
        "    sim_scores = sim_scores[1:6]\n",
        "    movie_indices = [i[0] for i in sim_scores]\n",
        "    return movies_df['title'].iloc[movie_indices]"
      ],
      "execution_count": 13,
      "outputs": []
    },
    {
      "cell_type": "code",
      "metadata": {
        "colab": {
          "base_uri": "https://localhost:8080/"
        },
        "id": "5be29b58",
        "outputId": "5bdfe6eb-e747-469f-c568-9d9e9c7f86bf"
      },
      "source": [
        "sample_movie_title = 'Toy Story (1995)'\n",
        "recommendations = get_recommendations(sample_movie_title)\n",
        "\n",
        "print(f\"Recommendations for '{sample_movie_title}':\")\n",
        "print(recommendations)"
      ],
      "execution_count": 11,
      "outputs": [
        {
          "output_type": "stream",
          "name": "stdout",
          "text": [
            "Recommendations for 'Toy Story (1995)':\n",
            "1706                                       Antz (1998)\n",
            "2355                                Toy Story 2 (1999)\n",
            "2809    Adventures of Rocky and Bullwinkle, The (2000)\n",
            "3000                  Emperor's New Groove, The (2000)\n",
            "3568                             Monsters, Inc. (2001)\n",
            "Name: title, dtype: object\n"
          ]
        }
      ]
    },
    {
      "cell_type": "code",
      "metadata": {
        "colab": {
          "base_uri": "https://localhost:8080/"
        },
        "id": "014879e7",
        "outputId": "178b427d-129f-468e-9ced-42b8d4721a9b"
      },
      "source": [
        "# Get recommendations for movie that is in the dataset\n",
        "sample_movie_title_3 = 'Jumanji (1995)'\n",
        "recommendations_3 = get_recommendations(sample_movie_title_3)\n",
        "\n",
        "print(f\"Recommendations for '{sample_movie_title_3}':\")\n",
        "print(recommendations_3)"
      ],
      "execution_count": 15,
      "outputs": [
        {
          "output_type": "stream",
          "name": "stdout",
          "text": [
            "Recommendations for 'Jumanji (1995)':\n",
            "53             Indian in the Cupboard, The (1995)\n",
            "109             NeverEnding Story III, The (1994)\n",
            "767               Escape to Witch Mountain (1975)\n",
            "1514    Darby O'Gill and the Little People (1959)\n",
            "1556                          Return to Oz (1985)\n",
            "Name: title, dtype: object\n"
          ]
        }
      ]
    }
  ]
}